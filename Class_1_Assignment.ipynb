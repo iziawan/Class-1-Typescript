{
  "nbformat": 4,
  "nbformat_minor": 0,
  "metadata": {
    "colab": {
      "provenance": [],
      "mount_file_id": "1OOBX1xbeH8TqUEGaEjmgvK6qjBozQ0rW",
      "authorship_tag": "ABX9TyMWNrJ8YkDZiLrMj8yn1Ak0",
      "include_colab_link": true
    },
    "kernelspec": {
      "name": "python3",
      "display_name": "Python 3"
    },
    "language_info": {
      "name": "python"
    }
  },
  "cells": [
    {
      "cell_type": "markdown",
      "metadata": {
        "id": "view-in-github",
        "colab_type": "text"
      },
      "source": [
        "<a href=\"https://colab.research.google.com/github/iziawan/Class-1-Typescript/blob/main/Class_1_Assignment.ipynb\" target=\"_parent\"><img src=\"https://colab.research.google.com/assets/colab-badge.svg\" alt=\"Open In Colab\"/></a>"
      ]
    },
    {
      "cell_type": "markdown",
      "source": [
        "**Part 1: Understanding String Literals**"
      ],
      "metadata": {
        "id": "eguFPpd049NW"
      }
    },
    {
      "cell_type": "markdown",
      "source": [
        "1. Creating strings using different quotation types"
      ],
      "metadata": {
        "id": "OTVLC42k5sgl"
      }
    },
    {
      "cell_type": "code",
      "source": [
        "single_quote = 'This is a string using single quotes.'\n",
        "double_quote = \"This is a string using double quotes.\"\n",
        "triple_quote = \"\"\"This is a string using triple quotes.\"\"\""
      ],
      "metadata": {
        "id": "wwKfLjP95JTv"
      },
      "execution_count": null,
      "outputs": []
    },
    {
      "cell_type": "markdown",
      "source": [
        "2. Explanation of advantages:"
      ],
      "metadata": {
        "id": "YuIFG2Yp57z5"
      }
    },
    {
      "cell_type": "code",
      "source": [
        "# - Single quotes: Useful when the string contains double quotes inside.\n",
        "# - Double quotes: Useful when the string contains single quotes inside.\n",
        "# - Triple quotes: Useful for multi-line strings and including both single and double quotes without escaping."
      ],
      "metadata": {
        "id": "UcPbDYjS6BO8"
      },
      "execution_count": null,
      "outputs": []
    },
    {
      "cell_type": "markdown",
      "source": [
        "3. String containing both single and double quotes"
      ],
      "metadata": {
        "id": "6driK0v96Il1"
      }
    },
    {
      "cell_type": "code",
      "source": [
        "both_quotes = 'She said, \"I\\'m going to the home.\"'\n",
        "print(both_quotes)"
      ],
      "metadata": {
        "colab": {
          "base_uri": "https://localhost:8080/"
        },
        "id": "yPwFNKQx6PZ5",
        "outputId": "6138ccfe-2134-46ce-a69e-3fd4e3e93e90"
      },
      "execution_count": null,
      "outputs": [
        {
          "output_type": "stream",
          "name": "stdout",
          "text": [
            "She said, \"I'm going to the home.\"\n"
          ]
        }
      ]
    },
    {
      "cell_type": "markdown",
      "source": [
        "4. Multi-line string describing a favorite hobby"
      ],
      "metadata": {
        "id": "99oWZ3vR6i7I"
      }
    },
    {
      "cell_type": "code",
      "source": [
        "fav_hobby = \"\"\"My favorite hobby is coding.\n",
        "I love diving into the world of programming and exploring new perspectives through different languages.\n",
        "It helps me to learn new things at the same time.\"\"\""
      ],
      "metadata": {
        "id": "B_-AiIwh6n8e"
      },
      "execution_count": null,
      "outputs": []
    },
    {
      "cell_type": "markdown",
      "source": [
        "**Part 2: String Methods Practice**"
      ],
      "metadata": {
        "id": "-hXB0_zn7Om7"
      }
    },
    {
      "cell_type": "markdown",
      "source": [
        "1. Full name manipulation"
      ],
      "metadata": {
        "id": "-ZD8ZDO27Tks"
      }
    },
    {
      "cell_type": "code",
      "source": [
        "full_name = \"Fiza Awan\"\n",
        "print(full_name.upper())  # Uppercase\n",
        "print(full_name.lower())  # Lowercase\n",
        "print(full_name.title())  # Capitalize first letters"
      ],
      "metadata": {
        "colab": {
          "base_uri": "https://localhost:8080/"
        },
        "id": "qmw4VmRw7WD8",
        "outputId": "ab1cccb4-3a1a-41af-9d67-603b9a2a2729"
      },
      "execution_count": null,
      "outputs": [
        {
          "output_type": "stream",
          "name": "stdout",
          "text": [
            "FIZA AWAN\n",
            "fiza awan\n",
            "Fiza Awan\n"
          ]
        }
      ]
    },
    {
      "cell_type": "markdown",
      "source": [
        "2. Messy text cleanup"
      ],
      "metadata": {
        "id": "yOmaIBX98uZ6"
      }
    },
    {
      "cell_type": "code",
      "source": [
        "messy_text = \"  Python programming is fun!  \"\n",
        "clean_text = messy_text.strip()\n",
        "updated_text = clean_text.replace(\"fun\", \"amazing\")\n",
        "count_i = clean_text.count(\"i\")\n",
        "\n",
        "print(clean_text)\n",
        "print(updated_text)\n",
        "print(\"Count of 'i':\", count_i)"
      ],
      "metadata": {
        "colab": {
          "base_uri": "https://localhost:8080/"
        },
        "id": "9tvkQ7pc8zsl",
        "outputId": "5b54be4c-356b-4b22-9c7b-4fe442c7ce51"
      },
      "execution_count": null,
      "outputs": [
        {
          "output_type": "stream",
          "name": "stdout",
          "text": [
            "Python programming is fun!\n",
            "Python programming is amazing!\n",
            "Count of 'i': 2\n"
          ]
        }
      ]
    },
    {
      "cell_type": "markdown",
      "source": [
        "3. Sentence manipulation"
      ],
      "metadata": {
        "id": "ZrX0-yDm9GVz"
      }
    },
    {
      "cell_type": "code",
      "source": [
        "sentence = \"The quick brown fox jumps over the lazy dog\"\n",
        "words_list = sentence.split()\n",
        "joined_sentence = \"-\".join(words_list)\n",
        "is_starting_with_the = sentence.startswith(\"The\")\n",
        "fox_position = sentence.find(\"fox\")\n",
        "\n",
        "print(words_list)\n",
        "print(joined_sentence)\n",
        "print(\"Starts with 'The':\", is_starting_with_the)\n",
        "print(\"Position of 'fox':\", fox_position)"
      ],
      "metadata": {
        "colab": {
          "base_uri": "https://localhost:8080/"
        },
        "id": "hVIGzLq79IUF",
        "outputId": "15d9f3df-2ca4-4daa-c2e4-03a7e3acfd09"
      },
      "execution_count": null,
      "outputs": [
        {
          "output_type": "stream",
          "name": "stdout",
          "text": [
            "['The', 'quick', 'brown', 'fox', 'jumps', 'over', 'the', 'lazy', 'dog']\n",
            "The-quick-brown-fox-jumps-over-the-lazy-dog\n",
            "Starts with 'The': True\n",
            "Position of 'fox': 16\n"
          ]
        }
      ]
    },
    {
      "cell_type": "markdown",
      "source": [
        "**Part 3: F-Strings**"
      ],
      "metadata": {
        "id": "TMHu5ov09Xx4"
      }
    },
    {
      "cell_type": "code",
      "source": [
        "name = \"Fiza Awan\"\n",
        "age = 25\n",
        "language = \"Python\"\n",
        "\n",
        "print(f\"My name is {name} and I am {age} years old.\")\n",
        "print(f\"I enjoy programming in {language}, it's my favorite!\")\n",
        "print(f\"In 5 years, I will be {age + 5} years old.\")"
      ],
      "metadata": {
        "id": "jZ1VMmyA9me2"
      },
      "execution_count": null,
      "outputs": []
    },
    {
      "cell_type": "markdown",
      "source": [
        "**Part 4: Combining String Methods with F-Strings**"
      ],
      "metadata": {
        "id": "5bANBSio9zNj"
      }
    },
    {
      "cell_type": "code",
      "source": [
        "first_name = input(\"Enter your first name: \").strip().capitalize()\n",
        "last_name = input(\"Enter your last name: \").strip().capitalize()\n",
        "birth_year = input(\"Enter your birth year: \").strip()\n",
        "current_year = 2025\n",
        "age = current_year - int(birth_year)\n",
        "username = f\"{first_name[0].lower()}{last_name.lower()}{birth_year}\"\n",
        "\n",
        "profile_message = f\"Profile: {first_name} {last_name}, Age: {age}, Username: {username}\"\n",
        "print(profile_message)"
      ],
      "metadata": {
        "colab": {
          "base_uri": "https://localhost:8080/"
        },
        "id": "HAniCVkF97qH",
        "outputId": "82be90aa-33a7-4dcf-b01b-7a35ec31661a"
      },
      "execution_count": null,
      "outputs": [
        {
          "output_type": "stream",
          "name": "stdout",
          "text": [
            "Enter your first name: Fiza\n",
            "Enter your last name: awan\n",
            "Enter your birth year: 2006\n",
            "Profile: Fiza Awan, Age: 19, Username: fawan2006\n"
          ]
        }
      ]
    }
  ]
}